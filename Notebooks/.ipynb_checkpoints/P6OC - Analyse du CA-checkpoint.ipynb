{
 "cells": [
  {
   "cell_type": "markdown",
   "id": "d062d502",
   "metadata": {},
   "source": [
    "# Analyse détaillées du CA pour Julien"
   ]
  },
  {
   "cell_type": "markdown",
   "id": "cf0a64f9",
   "metadata": {},
   "source": [
    "## 2. Analyse de performance des ventes en ligne <a name = \"H20\"></a>"
   ]
  },
  {
   "cell_type": "markdown",
   "id": "2aa4d922",
   "metadata": {},
   "source": [
    "## 2.1 Indicateurs de performances autour du CA générée (2021-2022)"
   ]
  },
  {
   "cell_type": "code",
   "execution_count": 1,
   "id": "bc8f26ae",
   "metadata": {},
   "outputs": [],
   "source": [
    "import pandas as pd\n",
    "import seaborn as sns\n",
    "import numpy as np\n",
    "import matplotlib.pyplot as plt\n",
    "from datetime import datetime\n",
    "import scipy.stats as stats"
   ]
  },
  {
   "cell_type": "code",
   "execution_count": 2,
   "id": "ef60731c",
   "metadata": {},
   "outputs": [],
   "source": [
    "import plotly.graph_objects as go\n",
    "from plotly.subplots import make_subplots"
   ]
  },
  {
   "cell_type": "code",
   "execution_count": 6,
   "id": "abd3ebd5",
   "metadata": {},
   "outputs": [
    {
     "ename": "FileNotFoundError",
     "evalue": "[Errno 2] No such file or directory: 'Data/customer_df_clean.csv'",
     "output_type": "error",
     "traceback": [
      "\u001b[1;31m---------------------------------------------------------------------------\u001b[0m",
      "\u001b[1;31mFileNotFoundError\u001b[0m                         Traceback (most recent call last)",
      "\u001b[1;32m<ipython-input-6-b4c7ab53522d>\u001b[0m in \u001b[0;36m<module>\u001b[1;34m\u001b[0m\n\u001b[0;32m      1\u001b[0m \u001b[0mparser\u001b[0m \u001b[1;33m=\u001b[0m \u001b[1;32mlambda\u001b[0m \u001b[0mdate\u001b[0m \u001b[1;33m:\u001b[0m \u001b[0mdatetime\u001b[0m\u001b[1;33m.\u001b[0m\u001b[0mstrptime\u001b[0m\u001b[1;33m(\u001b[0m\u001b[0mdate\u001b[0m\u001b[1;33m,\u001b[0m \u001b[1;34m'%Y-%m-%d'\u001b[0m\u001b[1;33m)\u001b[0m\u001b[1;33m\u001b[0m\u001b[1;33m\u001b[0m\u001b[0m\n\u001b[1;32m----> 2\u001b[1;33m \u001b[0mcustomer_df\u001b[0m \u001b[1;33m=\u001b[0m \u001b[0mpd\u001b[0m\u001b[1;33m.\u001b[0m\u001b[0mread_csv\u001b[0m\u001b[1;33m(\u001b[0m\u001b[1;34m'Data/customer_df_clean.csv'\u001b[0m\u001b[1;33m,\u001b[0m \u001b[0msep\u001b[0m\u001b[1;33m=\u001b[0m\u001b[1;34m\";\"\u001b[0m\u001b[1;33m)\u001b[0m\u001b[1;33m\u001b[0m\u001b[1;33m\u001b[0m\u001b[0m\n\u001b[0m\u001b[0;32m      3\u001b[0m \u001b[0mproduct_df\u001b[0m \u001b[1;33m=\u001b[0m \u001b[0mpd\u001b[0m\u001b[1;33m.\u001b[0m\u001b[0mread_csv\u001b[0m\u001b[1;33m(\u001b[0m\u001b[1;34m'Data/product_df_clean'\u001b[0m\u001b[1;33m,\u001b[0m \u001b[0msep\u001b[0m\u001b[1;33m=\u001b[0m\u001b[1;34m\";\"\u001b[0m\u001b[1;33m)\u001b[0m\u001b[1;33m\u001b[0m\u001b[1;33m\u001b[0m\u001b[0m\n\u001b[0;32m      4\u001b[0m \u001b[0mtransaction_df\u001b[0m \u001b[1;33m=\u001b[0m \u001b[0mpd\u001b[0m\u001b[1;33m.\u001b[0m\u001b[0mread_csv\u001b[0m\u001b[1;33m(\u001b[0m\u001b[1;34m'Data/transaction_product_df_clean'\u001b[0m\u001b[1;33m,\u001b[0m \u001b[0msep\u001b[0m\u001b[1;33m=\u001b[0m\u001b[1;34m\";\"\u001b[0m\u001b[1;33m,\u001b[0m\u001b[0mparse_dates\u001b[0m\u001b[1;33m=\u001b[0m\u001b[1;33m[\u001b[0m\u001b[1;36m1\u001b[0m\u001b[1;33m]\u001b[0m\u001b[1;33m,\u001b[0m \u001b[0mdate_parser\u001b[0m\u001b[1;33m=\u001b[0m\u001b[0mparser\u001b[0m\u001b[1;33m)\u001b[0m\u001b[1;33m\u001b[0m\u001b[1;33m\u001b[0m\u001b[0m\n",
      "\u001b[1;32m~\\anaconda3\\lib\\site-packages\\pandas\\io\\parsers.py\u001b[0m in \u001b[0;36mread_csv\u001b[1;34m(filepath_or_buffer, sep, delimiter, header, names, index_col, usecols, squeeze, prefix, mangle_dupe_cols, dtype, engine, converters, true_values, false_values, skipinitialspace, skiprows, skipfooter, nrows, na_values, keep_default_na, na_filter, verbose, skip_blank_lines, parse_dates, infer_datetime_format, keep_date_col, date_parser, dayfirst, cache_dates, iterator, chunksize, compression, thousands, decimal, lineterminator, quotechar, quoting, doublequote, escapechar, comment, encoding, dialect, error_bad_lines, warn_bad_lines, delim_whitespace, low_memory, memory_map, float_precision, storage_options)\u001b[0m\n\u001b[0;32m    608\u001b[0m     \u001b[0mkwds\u001b[0m\u001b[1;33m.\u001b[0m\u001b[0mupdate\u001b[0m\u001b[1;33m(\u001b[0m\u001b[0mkwds_defaults\u001b[0m\u001b[1;33m)\u001b[0m\u001b[1;33m\u001b[0m\u001b[1;33m\u001b[0m\u001b[0m\n\u001b[0;32m    609\u001b[0m \u001b[1;33m\u001b[0m\u001b[0m\n\u001b[1;32m--> 610\u001b[1;33m     \u001b[1;32mreturn\u001b[0m \u001b[0m_read\u001b[0m\u001b[1;33m(\u001b[0m\u001b[0mfilepath_or_buffer\u001b[0m\u001b[1;33m,\u001b[0m \u001b[0mkwds\u001b[0m\u001b[1;33m)\u001b[0m\u001b[1;33m\u001b[0m\u001b[1;33m\u001b[0m\u001b[0m\n\u001b[0m\u001b[0;32m    611\u001b[0m \u001b[1;33m\u001b[0m\u001b[0m\n\u001b[0;32m    612\u001b[0m \u001b[1;33m\u001b[0m\u001b[0m\n",
      "\u001b[1;32m~\\anaconda3\\lib\\site-packages\\pandas\\io\\parsers.py\u001b[0m in \u001b[0;36m_read\u001b[1;34m(filepath_or_buffer, kwds)\u001b[0m\n\u001b[0;32m    460\u001b[0m \u001b[1;33m\u001b[0m\u001b[0m\n\u001b[0;32m    461\u001b[0m     \u001b[1;31m# Create the parser.\u001b[0m\u001b[1;33m\u001b[0m\u001b[1;33m\u001b[0m\u001b[1;33m\u001b[0m\u001b[0m\n\u001b[1;32m--> 462\u001b[1;33m     \u001b[0mparser\u001b[0m \u001b[1;33m=\u001b[0m \u001b[0mTextFileReader\u001b[0m\u001b[1;33m(\u001b[0m\u001b[0mfilepath_or_buffer\u001b[0m\u001b[1;33m,\u001b[0m \u001b[1;33m**\u001b[0m\u001b[0mkwds\u001b[0m\u001b[1;33m)\u001b[0m\u001b[1;33m\u001b[0m\u001b[1;33m\u001b[0m\u001b[0m\n\u001b[0m\u001b[0;32m    463\u001b[0m \u001b[1;33m\u001b[0m\u001b[0m\n\u001b[0;32m    464\u001b[0m     \u001b[1;32mif\u001b[0m \u001b[0mchunksize\u001b[0m \u001b[1;32mor\u001b[0m \u001b[0miterator\u001b[0m\u001b[1;33m:\u001b[0m\u001b[1;33m\u001b[0m\u001b[1;33m\u001b[0m\u001b[0m\n",
      "\u001b[1;32m~\\anaconda3\\lib\\site-packages\\pandas\\io\\parsers.py\u001b[0m in \u001b[0;36m__init__\u001b[1;34m(self, f, engine, **kwds)\u001b[0m\n\u001b[0;32m    817\u001b[0m             \u001b[0mself\u001b[0m\u001b[1;33m.\u001b[0m\u001b[0moptions\u001b[0m\u001b[1;33m[\u001b[0m\u001b[1;34m\"has_index_names\"\u001b[0m\u001b[1;33m]\u001b[0m \u001b[1;33m=\u001b[0m \u001b[0mkwds\u001b[0m\u001b[1;33m[\u001b[0m\u001b[1;34m\"has_index_names\"\u001b[0m\u001b[1;33m]\u001b[0m\u001b[1;33m\u001b[0m\u001b[1;33m\u001b[0m\u001b[0m\n\u001b[0;32m    818\u001b[0m \u001b[1;33m\u001b[0m\u001b[0m\n\u001b[1;32m--> 819\u001b[1;33m         \u001b[0mself\u001b[0m\u001b[1;33m.\u001b[0m\u001b[0m_engine\u001b[0m \u001b[1;33m=\u001b[0m \u001b[0mself\u001b[0m\u001b[1;33m.\u001b[0m\u001b[0m_make_engine\u001b[0m\u001b[1;33m(\u001b[0m\u001b[0mself\u001b[0m\u001b[1;33m.\u001b[0m\u001b[0mengine\u001b[0m\u001b[1;33m)\u001b[0m\u001b[1;33m\u001b[0m\u001b[1;33m\u001b[0m\u001b[0m\n\u001b[0m\u001b[0;32m    820\u001b[0m \u001b[1;33m\u001b[0m\u001b[0m\n\u001b[0;32m    821\u001b[0m     \u001b[1;32mdef\u001b[0m \u001b[0mclose\u001b[0m\u001b[1;33m(\u001b[0m\u001b[0mself\u001b[0m\u001b[1;33m)\u001b[0m\u001b[1;33m:\u001b[0m\u001b[1;33m\u001b[0m\u001b[1;33m\u001b[0m\u001b[0m\n",
      "\u001b[1;32m~\\anaconda3\\lib\\site-packages\\pandas\\io\\parsers.py\u001b[0m in \u001b[0;36m_make_engine\u001b[1;34m(self, engine)\u001b[0m\n\u001b[0;32m   1048\u001b[0m             )\n\u001b[0;32m   1049\u001b[0m         \u001b[1;31m# error: Too many arguments for \"ParserBase\"\u001b[0m\u001b[1;33m\u001b[0m\u001b[1;33m\u001b[0m\u001b[1;33m\u001b[0m\u001b[0m\n\u001b[1;32m-> 1050\u001b[1;33m         \u001b[1;32mreturn\u001b[0m \u001b[0mmapping\u001b[0m\u001b[1;33m[\u001b[0m\u001b[0mengine\u001b[0m\u001b[1;33m]\u001b[0m\u001b[1;33m(\u001b[0m\u001b[0mself\u001b[0m\u001b[1;33m.\u001b[0m\u001b[0mf\u001b[0m\u001b[1;33m,\u001b[0m \u001b[1;33m**\u001b[0m\u001b[0mself\u001b[0m\u001b[1;33m.\u001b[0m\u001b[0moptions\u001b[0m\u001b[1;33m)\u001b[0m  \u001b[1;31m# type: ignore[call-arg]\u001b[0m\u001b[1;33m\u001b[0m\u001b[1;33m\u001b[0m\u001b[0m\n\u001b[0m\u001b[0;32m   1051\u001b[0m \u001b[1;33m\u001b[0m\u001b[0m\n\u001b[0;32m   1052\u001b[0m     \u001b[1;32mdef\u001b[0m \u001b[0m_failover_to_python\u001b[0m\u001b[1;33m(\u001b[0m\u001b[0mself\u001b[0m\u001b[1;33m)\u001b[0m\u001b[1;33m:\u001b[0m\u001b[1;33m\u001b[0m\u001b[1;33m\u001b[0m\u001b[0m\n",
      "\u001b[1;32m~\\anaconda3\\lib\\site-packages\\pandas\\io\\parsers.py\u001b[0m in \u001b[0;36m__init__\u001b[1;34m(self, src, **kwds)\u001b[0m\n\u001b[0;32m   1865\u001b[0m \u001b[1;33m\u001b[0m\u001b[0m\n\u001b[0;32m   1866\u001b[0m         \u001b[1;31m# open handles\u001b[0m\u001b[1;33m\u001b[0m\u001b[1;33m\u001b[0m\u001b[1;33m\u001b[0m\u001b[0m\n\u001b[1;32m-> 1867\u001b[1;33m         \u001b[0mself\u001b[0m\u001b[1;33m.\u001b[0m\u001b[0m_open_handles\u001b[0m\u001b[1;33m(\u001b[0m\u001b[0msrc\u001b[0m\u001b[1;33m,\u001b[0m \u001b[0mkwds\u001b[0m\u001b[1;33m)\u001b[0m\u001b[1;33m\u001b[0m\u001b[1;33m\u001b[0m\u001b[0m\n\u001b[0m\u001b[0;32m   1868\u001b[0m         \u001b[1;32massert\u001b[0m \u001b[0mself\u001b[0m\u001b[1;33m.\u001b[0m\u001b[0mhandles\u001b[0m \u001b[1;32mis\u001b[0m \u001b[1;32mnot\u001b[0m \u001b[1;32mNone\u001b[0m\u001b[1;33m\u001b[0m\u001b[1;33m\u001b[0m\u001b[0m\n\u001b[0;32m   1869\u001b[0m         \u001b[1;32mfor\u001b[0m \u001b[0mkey\u001b[0m \u001b[1;32min\u001b[0m \u001b[1;33m(\u001b[0m\u001b[1;34m\"storage_options\"\u001b[0m\u001b[1;33m,\u001b[0m \u001b[1;34m\"encoding\"\u001b[0m\u001b[1;33m,\u001b[0m \u001b[1;34m\"memory_map\"\u001b[0m\u001b[1;33m,\u001b[0m \u001b[1;34m\"compression\"\u001b[0m\u001b[1;33m)\u001b[0m\u001b[1;33m:\u001b[0m\u001b[1;33m\u001b[0m\u001b[1;33m\u001b[0m\u001b[0m\n",
      "\u001b[1;32m~\\anaconda3\\lib\\site-packages\\pandas\\io\\parsers.py\u001b[0m in \u001b[0;36m_open_handles\u001b[1;34m(self, src, kwds)\u001b[0m\n\u001b[0;32m   1360\u001b[0m         \u001b[0mLet\u001b[0m \u001b[0mthe\u001b[0m \u001b[0mreaders\u001b[0m \u001b[0mopen\u001b[0m \u001b[0mIOHanldes\u001b[0m \u001b[0mafter\u001b[0m \u001b[0mthey\u001b[0m \u001b[0mare\u001b[0m \u001b[0mdone\u001b[0m \u001b[1;32mwith\u001b[0m \u001b[0mtheir\u001b[0m \u001b[0mpotential\u001b[0m \u001b[0mraises\u001b[0m\u001b[1;33m.\u001b[0m\u001b[1;33m\u001b[0m\u001b[1;33m\u001b[0m\u001b[0m\n\u001b[0;32m   1361\u001b[0m         \"\"\"\n\u001b[1;32m-> 1362\u001b[1;33m         self.handles = get_handle(\n\u001b[0m\u001b[0;32m   1363\u001b[0m             \u001b[0msrc\u001b[0m\u001b[1;33m,\u001b[0m\u001b[1;33m\u001b[0m\u001b[1;33m\u001b[0m\u001b[0m\n\u001b[0;32m   1364\u001b[0m             \u001b[1;34m\"r\"\u001b[0m\u001b[1;33m,\u001b[0m\u001b[1;33m\u001b[0m\u001b[1;33m\u001b[0m\u001b[0m\n",
      "\u001b[1;32m~\\anaconda3\\lib\\site-packages\\pandas\\io\\common.py\u001b[0m in \u001b[0;36mget_handle\u001b[1;34m(path_or_buf, mode, encoding, compression, memory_map, is_text, errors, storage_options)\u001b[0m\n\u001b[0;32m    640\u001b[0m                 \u001b[0merrors\u001b[0m \u001b[1;33m=\u001b[0m \u001b[1;34m\"replace\"\u001b[0m\u001b[1;33m\u001b[0m\u001b[1;33m\u001b[0m\u001b[0m\n\u001b[0;32m    641\u001b[0m             \u001b[1;31m# Encoding\u001b[0m\u001b[1;33m\u001b[0m\u001b[1;33m\u001b[0m\u001b[1;33m\u001b[0m\u001b[0m\n\u001b[1;32m--> 642\u001b[1;33m             handle = open(\n\u001b[0m\u001b[0;32m    643\u001b[0m                 \u001b[0mhandle\u001b[0m\u001b[1;33m,\u001b[0m\u001b[1;33m\u001b[0m\u001b[1;33m\u001b[0m\u001b[0m\n\u001b[0;32m    644\u001b[0m                 \u001b[0mioargs\u001b[0m\u001b[1;33m.\u001b[0m\u001b[0mmode\u001b[0m\u001b[1;33m,\u001b[0m\u001b[1;33m\u001b[0m\u001b[1;33m\u001b[0m\u001b[0m\n",
      "\u001b[1;31mFileNotFoundError\u001b[0m: [Errno 2] No such file or directory: 'Data/customer_df_clean.csv'"
     ]
    }
   ],
   "source": [
    "parser = lambda date : datetime.strptime(date, '%Y-%m-%d')\n",
    "customer_df = pd.read_csv('Data/customer_df_clean', sep=\";\")\n",
    "product_df = pd.read_csv('Data/product_df_clean', sep=\";\")\n",
    "transaction_df = pd.read_csv('Data/transaction_product_df_clean', sep=\";\",parse_dates=[1], date_parser=parser)"
   ]
  },
  {
   "cell_type": "code",
   "execution_count": null,
   "id": "4843c3e7",
   "metadata": {},
   "outputs": [],
   "source": [
    "transaction_df.info()"
   ]
  },
  {
   "cell_type": "code",
   "execution_count": null,
   "id": "7be7104d",
   "metadata": {},
   "outputs": [],
   "source": [
    "def func(pct, df):\n",
    "    ca_total = df.sum()\n",
    "    absolute = int(np.round(pct/100. * ca_total))\n",
    "    return \"{:.1f}%\\n({:d} €)\".format(pct, absolute)"
   ]
  },
  {
   "cell_type": "code",
   "execution_count": null,
   "id": "b29cb4e9",
   "metadata": {},
   "outputs": [],
   "source": [
    "# Formater la colonne date en string avec le format 2022-03-31\n",
    "data = pd.merge(transaction_df, customer_df.set_index('client_id'), on=['client_id'], how='inner')\n",
    "data['month'] = data['date'].apply(lambda date: date.strftime(\"%Y-%m-%B\"))"
   ]
  },
  {
   "cell_type": "code",
   "execution_count": null,
   "id": "a08a4bc6",
   "metadata": {},
   "outputs": [],
   "source": [
    "data"
   ]
  },
  {
   "cell_type": "code",
   "execution_count": null,
   "id": "3ed4248e",
   "metadata": {},
   "outputs": [],
   "source": [
    "monthly_ca = data.groupby(by=['month'], as_index=False).agg({'price':'sum'}).rename(columns={'price' : 'monthly_ca'})\n",
    "monthly_ca.sort_values(['month'], ascending=True, inplace=True)"
   ]
  },
  {
   "cell_type": "code",
   "execution_count": null,
   "id": "f9b8cf3a",
   "metadata": {},
   "outputs": [],
   "source": [
    "import plotly.express as px\n",
    "fig = go.Figure()\n",
    "\n",
    "fig = px.line(monthly_ca, x=monthly_ca.month, y=monthly_ca.monthly_ca, \n",
    "              color=px.Constant(\"Valeur du CA\"), \n",
    "              text=round(monthly_ca.monthly_ca,2)\n",
    ")\n",
    "fig.update_traces(textposition='top center')\n",
    "fig.add_bar(x=monthly_ca.month, y=monthly_ca.monthly_ca, name=\"CA mensuel\")\n",
    "\n",
    "fig.update_xaxes(title_text=\"2021-2022\")\n",
    "fig.update_yaxes(title_text=\"CA (k€)\")\n",
    "\n",
    "fig.show()"
   ]
  },
  {
   "cell_type": "code",
   "execution_count": null,
   "id": "7b6b3b6b",
   "metadata": {},
   "outputs": [],
   "source": [
    "# Indicateur statistiques autour du CA\n",
    "min_ca_month = monthly_ca.loc[monthly_ca['monthly_ca'] == monthly_ca['monthly_ca'].min(), 'month'].values[0]\n",
    "max_ca_month = monthly_ca.loc[monthly_ca['monthly_ca'] == monthly_ca['monthly_ca'].max(), 'month'].values[0]\n",
    "min_ca_month_euro = round(monthly_ca.monthly_ca.min(),2)\n",
    "max_ca_month_euro = round(monthly_ca.monthly_ca.max(),2)\n",
    "\n",
    "avg_ca_annuel = round(monthly_ca.monthly_ca.mean(), 2)\n",
    "std_ca = round(monthly_ca.monthly_ca.std(),2)\n",
    "sum_ca = round(monthly_ca.monthly_ca.sum(),2)\n",
    "\n",
    "# Tendance du chiffre d'affaire sur 2021-2022\n",
    "ca_initial = monthly_ca['monthly_ca'].iloc[0]\n",
    "ca_final = monthly_ca['monthly_ca'].iloc[-1]\n",
    "trend = round((((ca_final - ca_initial) - 1) / ca_initial) * 100, 2)\n",
    "\n",
    "print(\"\"\" \\t######### Bilan du chiffre d'affaire annuel sur l'activité mars 2021 - mars 2022 #########\\n\n",
    "\n",
    "--> Le mois le plus rentable : \\033[1m{0}\\033[0m ({1}€)\\n\n",
    "--> Le mois le moins rentable : \\033[1m{2}\\033[0m ({3}€) \\n \n",
    "--> La moyenne du CA annuel : \\033[1m{4}\\033[0m€ \\n \n",
    "--> La variation moyenne du CA sur l'année 2021-2022 : \\033[1m{5}\\033[0m€ \\n\n",
    "--> Le chiffre d'affaire cumulé sur l'année 2021-2022 : \\033[1m{6}\\033[0m€ \\n\n",
    "--> L'évolution du chiffre d'affaire sur l'année 2021-2022 : \\033[1m{7}%\\033[0m\"\"\".format(max_ca_month,\n",
    "                                                                 max_ca_month_euro,\n",
    "                                                                 min_ca_month,\n",
    "                                                                 min_ca_month_euro,\n",
    "                                                                 avg_ca_annuel,\n",
    "                                                                 std_ca,\n",
    "                                                                                     sum_ca,\n",
    "                                                                                    trend) \n",
    ")"
   ]
  },
  {
   "cell_type": "markdown",
   "id": "63f8ec13",
   "metadata": {},
   "source": [
    "## 2.2 CA par catégorie de produit"
   ]
  },
  {
   "cell_type": "code",
   "execution_count": null,
   "id": "686b8622",
   "metadata": {},
   "outputs": [],
   "source": [
    "# Chiffre d'affaire et nombre de vente par catégorie\n",
    "x_values = transaction_df.categ.value_counts(normalize = True)\n",
    "y_values = x_values.index\n",
    "ca_categ = transaction_df.groupby(by=['categ']).sum()\n",
    "\n",
    "fig, axes = plt.subplots(1,2,figsize=(10,8))\n",
    "axes[0].pie(x=x_values, labels = y_values, autopct = \"%1.1f%%\")\n",
    "axes[0].legend(loc='best', labels=['Categ0', 'Categ1', 'Categ2'])\n",
    "axes[0].set_title('Poportion des ventes par catégorie')\n",
    "axes[1].pie(x=ca_categ['price'], labels=ca_categ.index, autopct = lambda pct : func(pct,ca_categ))\n",
    "axes[1].set_title('CA généré par catégorie de produits')\n",
    "plt.show()"
   ]
  },
  {
   "cell_type": "markdown",
   "id": "6e23e4cc",
   "metadata": {},
   "source": [
    "Ce graphique illustre la disproportion du CA généré par le nombre de vente. Par exemple, 5,3% des ventes sont issues de la catégorie 2 et pourtant génère 23% du chiffre d'affaire ! "
   ]
  },
  {
   "cell_type": "code",
   "execution_count": null,
   "id": "f81e4026",
   "metadata": {},
   "outputs": [],
   "source": [
    "data.dtypes"
   ]
  },
  {
   "cell_type": "code",
   "execution_count": null,
   "id": "b85961c2",
   "metadata": {},
   "outputs": [],
   "source": [
    "# Requête \n",
    "data = transaction_df.groupby(['date','categ']).agg({'price' : 'sum'}).reset_index().rename(columns={'price' : 'ca'})\n",
    "\n",
    "# Evolution du CA par catégorie de produit\n",
    "fig = go.Figure()\n",
    "\n",
    "\n",
    "# Categ 0\n",
    "fig.add_trace(go.Scatter(\n",
    "    x=data[data['categ'] == 0].date,\n",
    "    y=data[data['categ'] == 0].ca,\n",
    "    mode = \"lines\", name = 'categ 0'\n",
    "))\n",
    "\n",
    "# Categ 1\n",
    "\n",
    "fig.add_trace(go.Scatter(\n",
    "    x=data[data['categ'] == 1].date,\n",
    "    y=data[data['categ'] == 1].ca,\n",
    "    mode=\"lines\", name=\"categ 1\"\n",
    "))\n",
    "\n",
    "# Categ 2\n",
    "\n",
    "fig.add_trace(go.Scatter(\n",
    "    x=data[data['categ'] == 2].date,\n",
    "    y=data[data['categ'] == 2].ca,\n",
    "    mode=\"lines\",\n",
    "    name=\"categ 2\"\n",
    "))\n",
    "\n",
    "fig.update_layout(title_text=\"CA généré par catégorie de livre\")\n",
    "fig.update_yaxes(tickprefix=\"€\", showgrid=False)\n",
    "fig.update_xaxes(showgrid=True)\n",
    "fig.update_xaxes(title_text='Time')\n",
    "fig.update_yaxes(title_text='CA (€)')\n",
    "fig.show()"
   ]
  },
  {
   "cell_type": "code",
   "execution_count": null,
   "id": "56c0352f",
   "metadata": {},
   "outputs": [],
   "source": [
    "# Générer un rapport statistiques pour chaque catégorie de produit"
   ]
  },
  {
   "cell_type": "markdown",
   "id": "822b3e30",
   "metadata": {},
   "source": [
    "**Anomalie (résolue):** Le graphique nous montre bien que l'ensemble des données relatives aux catégories de produits sur le mois d'Octobre 2021 ont été supprimées. Les analyses de performances du CA et des catégories de produits peuvent être interprétées à leur juste valeur."
   ]
  },
  {
   "cell_type": "markdown",
   "id": "ff838759",
   "metadata": {},
   "source": [
    "## 2.3 Les Profils et comportements clients"
   ]
  },
  {
   "cell_type": "code",
   "execution_count": null,
   "id": "615f0fdb",
   "metadata": {},
   "outputs": [],
   "source": [
    "# Obtenir l'âge de nos client à l'aide de leur année de naissance dans notre fichier client\n",
    "annee = datetime.now().year\n",
    "customer_df['age'] = customer_df['birth'].apply(lambda birth: annee - birth)\n",
    "customer_df.drop(columns=['birth'], inplace=True)"
   ]
  },
  {
   "cell_type": "code",
   "execution_count": null,
   "id": "c7b1e922",
   "metadata": {},
   "outputs": [],
   "source": [
    "customer_df.dtypes"
   ]
  },
  {
   "cell_type": "code",
   "execution_count": null,
   "id": "e119db3f",
   "metadata": {},
   "outputs": [],
   "source": [
    "# Regarder la répartition de chaucn des groupes d'âges de nos clients\n",
    "# Segmentation clients en fonction de l'âges\n",
    "customer_df['age_categorie'] = pd.cut(customer_df['age'],bins=[1,19,25,45,60,120], labels=['Adolescents', 'Jeunes adultes', 'Adultes', 'Senior','Senior+'])"
   ]
  },
  {
   "cell_type": "code",
   "execution_count": null,
   "id": "4e98b173",
   "metadata": {},
   "outputs": [],
   "source": [
    "# Requête Data pour PieChart\n",
    "\n",
    "data_categ = customer_df.groupby(['age_categorie'], as_index=False).agg({\"client_id\" : \"count\"})\n",
    "\n",
    "# Set up des coordonnéees pour pie chart \n",
    "labels = data_categ.age_categorie\n",
    "values = data_categ.client_id\n",
    "\n",
    "# Requête data pour BarChart\n",
    "\n",
    "\n",
    "# Fig 1 : Répartition des clients selon leur tranche d'âge\n",
    "fig = go.Figure()\n",
    "fig.add_trace(go.Pie(labels=labels, values=values, hole=.3,hoverinfo=\"label+percent+value\"))\n",
    "fig.update_layout(title_text='Répartition Client')\n",
    "fig.show()"
   ]
  },
  {
   "cell_type": "markdown",
   "id": "02a8b2cb",
   "metadata": {},
   "source": [
    "**Catégorie de clients :**\n",
    "\n",
    "\n",
    "1. Adolescents -> Individu agé de moins de 18 ans\n",
    "\n",
    "\n",
    "2. Jeunes Adultes -> Individu agé de 19 à 25 ans\n",
    "\n",
    "\n",
    "3. Adultes -> Individu âgé de 26 à 45 ans\n",
    "\n",
    "\n",
    "4. Senior -> Individu âgé de 46 à 60 ans\n",
    "\n",
    "\n",
    "5. Senior + -> Individu âgé de plus de 60 ans\n",
    "\n",
    "**Total des clients repertoriés en 2022 :** 8621 clients actifs en 2022"
   ]
  },
  {
   "cell_type": "code",
   "execution_count": null,
   "id": "589bd055",
   "metadata": {},
   "outputs": [],
   "source": [
    "# Le chiffre d'affaire détaillé par catégorie sachant la tranche d'âge du client \n",
    "# Jointure entre les transactions et les infos client \n",
    "data = pd.merge(transaction_df, customer_df.set_index('client_id'), on=['client_id'], how='inner')\n",
    "\n",
    "# Chiffre d'affaire généré en fonction de la tranche d'âge et de la catégorie de livre\n",
    "data_grouby = data.groupby(by=['age_categorie','categ'], as_index=False).agg({'price' : 'sum'})\n",
    "\n",
    "x_bar = data_grouby[data_grouby['age_categorie'] == 'Adolescents']['categ']\n",
    "\n",
    "\n",
    "\n",
    "\n",
    "# Fig 2 : Répartition des ventes par catégorie sachant leur tranche d'âge\n",
    "fig = go.Figure()\n",
    "\n",
    "for categ in data_grouby.age_categorie.unique():\n",
    "    \n",
    "    y_bar= data_grouby[data_grouby['age_categorie'] == categ]['price']\n",
    "    fig.add_trace(go.Bar(x=['Livre 0', 'Livre 1', 'Livre 2'], y=y_bar, name = categ ))\n",
    "\n",
    "\n",
    "fig.update_layout(barmode=\"stack\", title_text=\"Répartition des ventes par catégorie de livre\")\n",
    "fig.update_xaxes(title_text=\"Catégorie de livre\")\n",
    "fig.update_yaxes(title_text=\"CA (M€)\")"
   ]
  },
  {
   "cell_type": "markdown",
   "id": "1266a59a",
   "metadata": {},
   "source": [
    "Les livres de catégorie 1 génèrent le plus de CA alors que ceux de la catégorie 2 performent à moitié moins.\n",
    "Les livres de la catégorie 2 attirent surtout **une clientèle jeune** (entre 18 et 40 ans). Ces profils client représentent une minorité du trafic des utilisateurs sur le site."
   ]
  },
  {
   "cell_type": "code",
   "execution_count": null,
   "id": "0fc57b8b",
   "metadata": {},
   "outputs": [],
   "source": [
    "data_grouby = data.groupby(['age_categorie','categ']).agg({'price' : 'sum'}).reset_index()"
   ]
  },
  {
   "cell_type": "code",
   "execution_count": null,
   "id": "0974e08a",
   "metadata": {},
   "outputs": [],
   "source": [
    "# Histogramme représentatif du CA croisé avec la tranche d'âge et la catégorie du livre\n",
    "g = sns.catplot(\n",
    "    data=data_grouby, kind=\"bar\",\n",
    "    x=\"age_categorie\", y=\"price\", hue=\"categ\", palette=\"dark\", alpha=.6, ci=None,height=5, aspect=2\n",
    ")\n",
    "g.despine(left=True)\n",
    "g.set_axis_labels(\"Catégorie client\", \"Chiffre d'affaire (M€)\")\n",
    "g.legend.set_title(\"Catégorie\")"
   ]
  },
  {
   "cell_type": "markdown",
   "id": "a72363a4",
   "metadata": {},
   "source": [
    "Ce graphique permet de dégager des comportements clients évidents :\n",
    "\n",
    "-Les adolescents et les jeunes adultes achètent des livres de catégorie 2 (BD, science fiction, manga)\n",
    "\n",
    "\n",
    "-Les profils plus âgés ont tendance à acheter des livres de catégorie 0 (Roman, politique, culturel)\n",
    "\n",
    "\n",
    "-Aucun profil client particulier pour la catégorie 1"
   ]
  },
  {
   "cell_type": "markdown",
   "id": "3d72b8d1",
   "metadata": {},
   "source": [
    "## 2.3 Ventes par l'âge et la catégorie de livre"
   ]
  },
  {
   "cell_type": "code",
   "execution_count": null,
   "id": "141287fb",
   "metadata": {
    "scrolled": true
   },
   "outputs": [],
   "source": [
    "sns.set_theme(style=\"darkgrid\")\n",
    "sns.displot(\n",
    "    data, x=\"age\", col=\"categ\",\n",
    "    binwidth=3, height=4, facet_kws=dict(margin_titles=True),\n",
    ")"
   ]
  },
  {
   "cell_type": "markdown",
   "id": "04e38a78",
   "metadata": {},
   "source": [
    "**Interprétation du graphique :**\n",
    "\n",
    "* catégorie 0 : Public adulte entre 30 et 55 ans -> \n",
    "* catégorie 1 : Tout public (Répartition homogène selon l'âge)\n",
    "* catégorie 2 : Public jeune "
   ]
  },
  {
   "cell_type": "markdown",
   "id": "0cdadc1e",
   "metadata": {},
   "source": [
    "## 2.4 Ventes générées par catégorie sachant la tranche d'âge et le sexe du client"
   ]
  },
  {
   "cell_type": "code",
   "execution_count": null,
   "id": "1a51374a",
   "metadata": {},
   "outputs": [],
   "source": [
    "# Proportion Homme - Femme de nos clients\n",
    "\n",
    "# Requête Data pour PieChart\n",
    "\n",
    "prop_sex = customer_df[['sex','client_id']].groupby(by=['sex']).count()\n",
    "\n",
    "# Set up des coordonnéees pour pie chart \n",
    "labels = ['Femme','Homme']\n",
    "values = prop_sex.client_id\n",
    "\n",
    "# Requête data pour BarChart\n",
    "\n",
    "\n",
    "# Fig 1 : Répartition des clients selon leur tranche d'âge\n",
    "fig = go.Figure()\n",
    "fig.add_trace(go.Pie(labels=labels, values=values, hole=.3,hoverinfo=\"label+percent+value\"))\n",
    "fig.update_layout(title_text='Répartition Client')\n",
    "fig.show()"
   ]
  },
  {
   "cell_type": "code",
   "execution_count": null,
   "id": "a0a44002",
   "metadata": {},
   "outputs": [],
   "source": [
    "h = sns.displot(\n",
    "    data, x=\"age\", col=\"categ\", row='sex',\n",
    "    binwidth=3, height=4, facet_kws=dict(margin_titles=True),\n",
    ")\n",
    "h.set_titles(\"Répartition des clients en fonction de l'âge et du sexe\")\n",
    "\n",
    "# relatif (mettre à l'echelle la population en fonction du sexe)"
   ]
  },
  {
   "cell_type": "markdown",
   "id": "10a7ebbf",
   "metadata": {},
   "source": [
    "Il n'y a pas de différence notable entre le comportement d'achat d'un homme ou d'une femme quelquesoit l'âge pour les catégories 2.\n",
    "\n",
    "**Valeur irrégulière :** Les adultes masculins entre 40-50 ans affichent un nombre de vente 2 fois plus élevé que le reste de l'échantillon. Ce pattern se répète pour les catégories 0 et 1 de livre\n"
   ]
  },
  {
   "cell_type": "code",
   "execution_count": null,
   "id": "708b5934",
   "metadata": {},
   "outputs": [],
   "source": [
    "# Requête pour récupérer les clients entre 45 et 50\n",
    "categ = 1 # Catégorie de livre à analyser\n",
    "\n",
    "cond = customer_df[(customer_df['age'] >= 18) & (customer_df['age'] <= 100)]['sex'].isin([\"m\",\"f\"])\n",
    "m_client_id = customer_df.loc[cond[cond].index]['client_id'] # On récupère l'id des clients qui respectent la condition\n",
    "client_id_transaction = pd.merge(transaction_df[transaction_df['client_id'].isin(m_client_id)], \n",
    "                                                customer_df.set_index('client_id'),\n",
    "                                                on='client_id', \n",
    "                                                how='inner')"
   ]
  },
  {
   "cell_type": "code",
   "execution_count": null,
   "id": "f71c2c91",
   "metadata": {
    "scrolled": true
   },
   "outputs": [],
   "source": [
    "# Filtrer les transactions sur la catégorie \n",
    "categ_0_filter = client_id_transaction['categ'] == categ"
   ]
  },
  {
   "cell_type": "code",
   "execution_count": null,
   "id": "e9bc13d7",
   "metadata": {},
   "outputs": [],
   "source": [
    "# Toutes les ventes générées par les clients de sexe masculin entre 45 et 50 ans\n",
    "vente_client_id = client_id_transaction[categ_0_filter].groupby(by=['client_id','sex'], as_index=False).agg({'id_prod':'count'}).rename(columns={'id_prod':'nb_achat'}).reset_index()"
   ]
  },
  {
   "cell_type": "code",
   "execution_count": null,
   "id": "3022ecfc",
   "metadata": {},
   "outputs": [],
   "source": [
    "fig = go.Figure()\n",
    "fig = px.scatter(vente_client_id, x=vente_client_id.client_id, y=\"nb_achat\", \n",
    "              color=\"sex\"\n",
    ")\n",
    "fig.update_xaxes(title_text=\"client_id\", showgrid=False)\n",
    "fig.show()"
   ]
  },
  {
   "cell_type": "code",
   "execution_count": null,
   "id": "3e83a8b6",
   "metadata": {},
   "outputs": [],
   "source": [
    "# Profil Client atypique\n",
    "vente_client_id.loc[594]"
   ]
  },
  {
   "cell_type": "code",
   "execution_count": null,
   "id": "a80a199e",
   "metadata": {},
   "outputs": [],
   "source": [
    "# Recherche du nombre d'achat pour le client atypique\n",
    "transaction_df[transaction_df['client_id'] == \"c_1000\"].groupby(by=['categ']).agg({\"id_prod\" : \"count\",\n",
    "                                                                                  \"price\" : \"sum\"}).rename(columns={\"id_prod\":\"nb_achat\",\n",
    "                                                                                                           \"price\" : \"montant_panier\"})"
   ]
  },
  {
   "cell_type": "markdown",
   "id": "ece2c02d",
   "metadata": {},
   "source": [
    "Le client numéro **c_1609** est responsable de l'explosion du nombre de vente pour des clients du même âge et de même sexe.\n",
    "On peut qualifier ce client de **professionnel** qui passe des commandes volumineuses pour fournir des établissements scolaire, des entreprises... .\n",
    "\n",
    "L'analyse des ventes en connaissant le sexe et l'âge du client nous a permis d'identifier deux profils clients : **particulier** et **professionnel**\n",
    "\n",
    "Le site e-commerce de la librairie doit proposer, au moment de l'achat, un espace pour les particuliers et un espace pour les professionnels"
   ]
  },
  {
   "cell_type": "markdown",
   "id": "a0c0494d",
   "metadata": {},
   "source": [
    "## 2.5 Historique des transactions pour les clients professionnels"
   ]
  },
  {
   "cell_type": "code",
   "execution_count": null,
   "id": "e8aa7828",
   "metadata": {
    "scrolled": true
   },
   "outputs": [],
   "source": [
    "# Récupération des profils client professionnels\n",
    "z_threshold = 2\n",
    "\n",
    "\n",
    "achat_value = transaction_df.groupby(by=['client_id']).agg({'id_prod' : 'count'}).rename(columns={'id_prod':'nb_achat'})\n",
    "\n",
    "cond = stats.zscore(achat_value) > z_threshold\n",
    "achat_value.loc[cond,:]"
   ]
  },
  {
   "cell_type": "code",
   "execution_count": null,
   "id": "7fce8d39",
   "metadata": {},
   "outputs": [],
   "source": [
    "nb_client = len(customer_df)\n",
    "moy_achat_client = round(achat_value.mean(),2)[0]\n",
    "std_achat_client = round(achat_value.std(),2)[0]\n",
    "moy_achat_j = round(transaction_df.groupby(by=['date']).agg({\"price\" : \"sum\"})['price'].mean() / nb_client,2)\n",
    "\n",
    "print(\"\"\"\\t############### Information sur le nombre d'achat des clients en 2021 ###############\\n\n",
    "Le nombre d'achat moyen sur 1 an pour l'ensemble de nos clients : \\033[1m{}\\033[0m\\n\n",
    "La dispersion moyenne du nombre d'achat de nos clients : \\033[1m{}\\033[0m\\n\n",
    "Le panier moyen par jour d'un client : \\033[1m{}\\033[0m€\\n\"\"\".format(moy_achat_client,std_achat_client,moy_achat_j))"
   ]
  },
  {
   "cell_type": "code",
   "execution_count": null,
   "id": "079e028a",
   "metadata": {},
   "outputs": [],
   "source": [
    "for categ in range(0,3):\n",
    "    fig = go.Figure()\n",
    "    for client_id in achat_value.loc[cond,:].index:\n",
    "    \n",
    "    \n",
    "        data = transaction_df[transaction_df['client_id'] == client_id].groupby(by=['date','categ']).agg({\"id_prod\" : \"count\"}).reset_index()\n",
    "        fig.add_trace(go.Scatter(\n",
    "        x=data[data['categ'] == categ].date,\n",
    "        y=data[data['categ'] == categ].id_prod,\n",
    "        mode = \"lines\", name = \"client n° \"+ client_id\n",
    "        ))\n",
    "        fig.update_layout(title_text=\"Historique d'achat des clients professionnels pour la catégorie : {}\".format(categ))\n",
    "    \n",
    "    fig.show()"
   ]
  },
  {
   "cell_type": "markdown",
   "id": "09317386",
   "metadata": {},
   "source": [
    "## 2.6 Les tops et les flops "
   ]
  },
  {
   "cell_type": "markdown",
   "id": "9a994c79",
   "metadata": {},
   "source": [
    "**Equilibrage de notre échantillon client :** Dans cette analyse, nous décidons d'enlever les clients professionnels. Le nombre élevé d'achat sur certain produit peuvent compromettre les résultats sur le comportemement d'achat observés sur l'ensemble de nos clients."
   ]
  },
  {
   "cell_type": "code",
   "execution_count": null,
   "id": "df74c0fa",
   "metadata": {},
   "outputs": [],
   "source": [
    "# Equilibrage du jeu de données\n",
    "id_client_pro = achat_value.loc[cond,:].index\n",
    "\n",
    "# On travaille sur une copie pour garder les informations de nos clients pro\n",
    "transaction_df_copy = transaction_df.copy()\n",
    "transaction_df_copy.set_index('client_id', inplace=True)\n",
    "transaction_df_copy.drop(labels=id_client_pro, inplace=True)\n",
    "transaction_df_copy.reset_index(inplace=True)"
   ]
  },
  {
   "cell_type": "code",
   "execution_count": null,
   "id": "84c01d40",
   "metadata": {},
   "outputs": [],
   "source": [
    "nb_client = len(transaction_df_copy.groupby(by=['client_id']).count())\n",
    "moy_achat_client = round(transaction_df_copy.groupby(by=['client_id']).agg({\"id_prod\":\"count\"}).mean()[0],2)\n",
    "moy_disp_achat_client = round(transaction_df_copy.groupby(by=['client_id']).agg({\"id_prod\":\"count\"}).std()[0],2)\n",
    "panier_moy_jour = round(transaction_df_copy.groupby(by=['date']).agg({\"price\" : \"sum\"}).mean()[0] / nb_client ,2) \n",
    "\n",
    "print(\"\"\"\\t############### Information sur le nombre d'achat des clients en 2021 (professionnels exclus) ###############\\n\n",
    "Le nombre d'achat moyen sur 1 an pour l'ensemble de nos clients : \\033[1m{}\\033[0m\\n\n",
    "La dispersion moyenne du nombre d'achat de nos clients : \\033[1m{}\\033[0m\\n\n",
    "Le panier moyen par jour d'un client : \\033[1m{}\\033[0m€\\n\n",
    "\"\"\".format(moy_achat_client,moy_disp_achat_client,panier_moy_jour))"
   ]
  },
  {
   "cell_type": "code",
   "execution_count": null,
   "id": "4879047e",
   "metadata": {},
   "outputs": [],
   "source": [
    "product_sell = transaction_df_copy.groupby(by=['id_prod']).agg({\"client_id\" : \"count\",\n",
    "                                                               \"price\" : \"sum\"}).rename(columns={\"client_id\" : \"nb_vente\",\n",
    "                                                                                                \"price\" : \"ca\"}) \n",
    "# Références des tops produits pour le ca\n",
    "best_product_ca = product_sell.sort_values(['ca','nb_vente'], ascending=False).reset_index().loc[:10,:]\n",
    "\n",
    "# Références des meilleures ventes\n",
    "best_seller_product = product_sell.sort_values(by=['nb_vente'], ascending=False).reset_index().loc[:10,:]\n",
    "\n",
    "# Références des produits les moins rentables\n",
    "worth_product_ca = product_sell.sort_values(['ca'], ascending=True).reset_index().loc[:10,:]\n",
    "\n",
    "# Références des produits les moins vendus\n",
    "worth_product_sell = product_sell.sort_values(['nb_vente'], ascending=True).reset_index().loc[:10,:]"
   ]
  },
  {
   "cell_type": "code",
   "execution_count": null,
   "id": "d2f1deef",
   "metadata": {},
   "outputs": [],
   "source": [
    "print(\"\"\"\\t############### Références des tops produits  ###############\\n\n",
    "\\033[1mProduits référencés selon le CA généré\\033[0m \\n\n",
    "{}\\n\n",
    "\\033[1mMeilleures ventes\\033[0m \\n\n",
    "{}\\n\n",
    "\\t############### Références des flops produits  ###############\\n\n",
    "\\n\n",
    "\\033[1mLes références des produits flops en CA\\033[0m \\n\n",
    "{}\\n\n",
    "\\033[1mLes références des produits les moins vendus\\033[0m \\n\n",
    "{}\n",
    "\"\"\".format(best_product_ca,best_seller_product,worth_product_ca,worth_product_sell))"
   ]
  },
  {
   "cell_type": "markdown",
   "id": "d6c50631",
   "metadata": {},
   "source": [
    "## 2.6 Courbe de Lorenz"
   ]
  },
  {
   "cell_type": "code",
   "execution_count": null,
   "id": "2b09e202",
   "metadata": {
    "scrolled": true
   },
   "outputs": [],
   "source": [
    "# Modéliser le chiffre d'affaire généré par les ventes\n",
    "data_vente = transaction_df.groupby(by=['id_prod'], as_index=False).agg({\"client_id\":\"count\",\n",
    "                                           \"price\" : \"sum\"})\n",
    "\n",
    "# On récupère pour chaque produit le nombre d'achat cumulé de chaque client\n",
    "nb_vente = data_vente[['client_id','price']].sort_values(by=['price'], ascending=True)"
   ]
  },
  {
   "cell_type": "code",
   "execution_count": null,
   "id": "ad84df92",
   "metadata": {},
   "outputs": [],
   "source": [
    "data_vente.rename(columns={'client_id' : 'freq achat',\n",
    "                          'price' : \"ca\"}, inplace=True)"
   ]
  },
  {
   "cell_type": "code",
   "execution_count": null,
   "id": "addbe166",
   "metadata": {},
   "outputs": [],
   "source": [
    "data_vente.sort_values(by=['ca'], ascending=True, inplace=True)"
   ]
  },
  {
   "cell_type": "code",
   "execution_count": null,
   "id": "9dadb798",
   "metadata": {},
   "outputs": [],
   "source": [
    "data_vente['cumul CA (%)'] = (data_vente['ca'] / data_vente['ca'].sum()).cumsum()"
   ]
  },
  {
   "cell_type": "code",
   "execution_count": null,
   "id": "5450ada5",
   "metadata": {},
   "outputs": [],
   "source": [
    "data_vente"
   ]
  },
  {
   "cell_type": "code",
   "execution_count": null,
   "id": "f5ec0e1c",
   "metadata": {},
   "outputs": [],
   "source": [
    "data_vente['cumul produit (%)'] = np.linspace(0,1,len(data_vente['ca']))"
   ]
  },
  {
   "cell_type": "code",
   "execution_count": null,
   "id": "cc7fa408",
   "metadata": {},
   "outputs": [],
   "source": [
    "data_vente[\"hue\"] = \"Lorenz\""
   ]
  },
  {
   "cell_type": "code",
   "execution_count": null,
   "id": "6314b7ab",
   "metadata": {},
   "outputs": [],
   "source": [
    "data_vente"
   ]
  },
  {
   "cell_type": "code",
   "execution_count": null,
   "id": "4e94d5ee",
   "metadata": {},
   "outputs": [],
   "source": [
    "data_vente = data_vente.append(pd.DataFrame({'cumul produit (%)' : [0,1],\n",
    "                         'cumul CA (%)' : [0,1],\n",
    "                         'hue': ['Linear','Linear']}), ignore_index=True)"
   ]
  },
  {
   "cell_type": "code",
   "execution_count": null,
   "id": "7fa158ee",
   "metadata": {},
   "outputs": [],
   "source": [
    "data_vente"
   ]
  },
  {
   "cell_type": "code",
   "execution_count": null,
   "id": "93b64ab5",
   "metadata": {},
   "outputs": [],
   "source": [
    "# Modéliser le chiffre d'affaire généré par les achats clients\n",
    "nb_achat_client = transaction_df.groupby(by=['client_id'], as_index=False).agg({\"id_prod\":\"count\",\n",
    "                                           \"price\" : \"sum\"}).rename(columns={\"id_prod\" : 'freq achat',\n",
    "                                                                            \"price\" : \"ca\"})\n",
    "\n",
    "\n",
    "\n",
    "# Création des axes x, y pour la courbe de Lorenz\n",
    "nb_achat_client.sort_values(by=['ca'], ascending=True, inplace=True)\n",
    "nb_achat_client['freq_cumulee_ca'] = (nb_achat_client['ca'] / nb_achat_client['ca'].sum()).cumsum()\n",
    "nb_achat_client['x_axis'] = np.linspace(0,1,len(nb_achat_client['freq_cumulee_ca']))\n",
    "\n",
    "#Création d'une colonne type de courbe \"hue\"\n",
    "nb_achat_client[\"hue\"]=\"Lorenz\"\n",
    "\n",
    "# On ajoute l'origine de la droite linéaire (bissectrice) x(0,0) x(1,1)\n",
    "\n",
    "nb_achat_client = nb_achat_client.append(pd.DataFrame({'x_axis' : [0,1],\n",
    "                        'freq_cumulee_ca' : [0,1],\n",
    "                      'hue': ['Linear','Linear']}), ignore_index=True)"
   ]
  },
  {
   "cell_type": "code",
   "execution_count": null,
   "id": "e7eb1115",
   "metadata": {},
   "outputs": [],
   "source": [
    "nb_achat_client"
   ]
  },
  {
   "cell_type": "code",
   "execution_count": null,
   "id": "69053dd2",
   "metadata": {},
   "outputs": [],
   "source": [
    "#index : np.array n*1 \n",
    "def gini_coeff(df, columns):\n",
    "    \n",
    "    # L'index commence à 1\n",
    "    index = (df.index + 1)\n",
    "    # n: la taille de l'échantillon\n",
    "    n = df.shape[0]\n",
    "\n",
    "    #array : Tableau 1d trié par ordre croissant pour le calcul du coefficient de gini\n",
    "    array = np.array(df[columns])\n",
    "    gini_coeff = ((np.sum((2 * index - n  - 1) * array)) / (n * np.sum(array)))\n",
    "    return round(gini_coeff,2)"
   ]
  },
  {
   "cell_type": "code",
   "execution_count": null,
   "id": "57593a06",
   "metadata": {},
   "outputs": [],
   "source": [
    "fig, axe = plt.subplots(1,2, figsize=(15,8))\n",
    "sns.lineplot(data=data_vente, x='cumul produit (%)', y='cumul CA (%)', hue='hue', ax=axe[0])\n",
    "sns.lineplot(data=nb_achat_client, x='x_axis', y='freq_cumulee_ca', hue='hue', ax=axe[1])\n",
    "sns.lineplot(x=[0.8],y=[0.5], ax=axe[1])\n",
    "axe[1].vlines(0.5,0.0,0.2,linestyles='--', color='#000000')\n",
    "axe[1].hlines(0.2,0.0,0.5,linestyles='--', color='red')\n",
    "axe[1].fill_between(nb_achat_client['x_axis'],nb_achat_client['x_axis'],nb_achat_client['freq_cumulee_ca'], alpha=0.0001, hatch='|')\n",
    "gini1 = gini_coeff(data_vente, 'cumul CA (%)')\n",
    "gini2 = gini_coeff(nb_achat_client, 'freq_cumulee_ca')\n",
    "axe[0].set_title('Courbe de Lorenz (GINI : {})'.format(gini1))\n",
    "axe[1].set_title('Courbe de Lorenz (GINI : {})'.format(gini2))\n",
    "fig.show()"
   ]
  },
  {
   "cell_type": "code",
   "execution_count": null,
   "id": "6fb1e0ad",
   "metadata": {},
   "outputs": [],
   "source": [
    "nb_achat_client['x_axis']"
   ]
  },
  {
   "cell_type": "code",
   "execution_count": null,
   "id": "1188f952",
   "metadata": {},
   "outputs": [],
   "source": [
    "nb_vente"
   ]
  },
  {
   "cell_type": "markdown",
   "id": "fd971107",
   "metadata": {},
   "source": [
    "## 2.7 Moyenne mobile"
   ]
  },
  {
   "cell_type": "code",
   "execution_count": null,
   "id": "e50e5492",
   "metadata": {},
   "outputs": [],
   "source": [
    "data_vente"
   ]
  },
  {
   "cell_type": "code",
   "execution_count": null,
   "id": "e3c3c079",
   "metadata": {},
   "outputs": [],
   "source": []
  }
 ],
 "metadata": {
  "kernelspec": {
   "display_name": "Python 3",
   "language": "python",
   "name": "python3"
  },
  "language_info": {
   "codemirror_mode": {
    "name": "ipython",
    "version": 3
   },
   "file_extension": ".py",
   "mimetype": "text/x-python",
   "name": "python",
   "nbconvert_exporter": "python",
   "pygments_lexer": "ipython3",
   "version": "3.8.8"
  }
 },
 "nbformat": 4,
 "nbformat_minor": 5
}
